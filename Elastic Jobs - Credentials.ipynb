{
 "cells": [
  {
   "cell_type": "code",
   "execution_count": null,
   "metadata": {},
   "outputs": [],
   "source": [
    "server_name = 'tcp:sjobaccount1.database.windows.net,1433'\n",
    "database = 'dbjobaccount'\n",
    "username = 'cloudsa'\n",
    "passwd = 'Yukon900!'\n",
    "job_cred_name=input('new job credential name:')\n",
    "job_credential = input('new job scoped credential user:')\n",
    "job_passwd = input('new job scoped credential password:')\n",
    "\n",
    "target_cred_name = input('new target credential name:')\n",
    "target_user = input('new target scoped credential user:')\n",
    "target_passwd = input('new target scoped credential password:')"
   ]
  },
  {
   "cell_type": "code",
   "execution_count": 1,
   "metadata": {},
   "outputs": [
    {
     "name": "stdout",
     "output_type": "stream",
     "text": [
      "Connected to tcp:sjobaccount1.database.windows.net,1433 successfully\n"
     ]
    }
   ],
   "source": [
    "# Connect to server\n",
    "import pyodbc \n",
    "import pandas as pd\n",
    "import numpy as np\n",
    "\n",
    "server_name = 'tcp:sjobaccount1.database.windows.net,1433'\n",
    "database = 'dbjobaccount'\n",
    "username = 'cloudsa'\n",
    "passwd = 'Yukon900!'\n",
    "\n",
    "jobsDbConnection = pyodbc.connect('Driver={ODBC Driver 13 for SQL Server};'\n",
    "                        'UID='+username+';'\n",
    "                        'PWD='+passwd+';'\n",
    "                      'Server='+server_name+';'\n",
    "                      'Database='+database+';'\n",
    "                      'Encrypt=yes;TrustServerCertificate=no;Connection Timeout=30;'\n",
    "                      )\n",
    "\n",
    "print(\"Connected to \"+server_name+\" successfully\")"
   ]
  },
  {
   "cell_type": "code",
   "execution_count": 14,
   "metadata": {},
   "outputs": [
    {
     "name": "stdout",
     "output_type": "stream",
     "text": [
      "enter new refresh credentials name:refreshcred\n",
      "enter refreshcredential user:refreshcred\n",
      "enter new refreshcredential password:myPassw0rd!\n",
      "enter new job credential login:jobcred\n",
      "enter new job credential password:myPassw0rd!\n"
     ]
    }
   ],
   "source": [
    "#note : this should be done in the target server\n",
    "#refresh credentials need to be in master\n",
    "\n",
    "\n",
    "masterDbConnection = pyodbc.connect('Driver={ODBC Driver 13 for SQL Server};'\n",
    "                        'UID='+username+';'\n",
    "                        'PWD='+passwd+';'\n",
    "                      'Server='+server_name+';'\n",
    "                      'Database=master;'\n",
    "                      'Encrypt=yes;TrustServerCertificate=no;Connection Timeout=30;'\n",
    "                      )\n",
    "\n",
    "masterCursor = masterDbConnection.cursor()\n",
    "\n",
    "refresh_name = input('enter new refresh credentials name:')\n",
    "refresh_user = input('enter refreshcredential user:')\n",
    "refresh_passwd = input('enter new refreshcredential password:')\n",
    "\n",
    "jobcredentialuser= input('enter new job credential login:')\n",
    "jobcredentialpassword= input('enter new job credential password:')\n",
    "\n",
    "\n",
    "\n",
    "queries =[\n",
    "    \"CREATE LOGIN \"+refresh_name+\" WITH PASSWORD='\"+refresh_passwd+\"'\",\n",
    "    \"CREATE USER \"+refresh_user+\" FROM LOGIN \"+refresh_name,\n",
    "    \"CREATE LOGIN \"+jobcredentialuser+\" WITH PASSWORD='\"+jobcredentialpassword+\"'\"\n",
    "]\n",
    "\n",
    "for query in queries:\n",
    "    masterCursor.execute(query)"
   ]
  },
  {
   "cell_type": "code",
   "execution_count": 20,
   "metadata": {},
   "outputs": [
    {
     "ename": "ProgrammingError",
     "evalue": "('42000', '[42000] [Microsoft][ODBC Driver 13 for SQL Server][SQL Server]Grantor does not have GRANT permission. (4613) (SQLExecDirectW)')",
     "output_type": "error",
     "traceback": [
      "\u001b[0;31m---------------------------------------------------------------------------\u001b[0m",
      "\u001b[0;31mProgrammingError\u001b[0m                          Traceback (most recent call last)",
      "\u001b[0;32m<ipython-input-20-e68210b8ba3b>\u001b[0m in \u001b[0;36m<module>\u001b[0;34m()\u001b[0m\n\u001b[1;32m      7\u001b[0m \u001b[0;34m\u001b[0m\u001b[0m\n\u001b[1;32m      8\u001b[0m \u001b[0;32mfor\u001b[0m \u001b[0mquery\u001b[0m \u001b[0;32min\u001b[0m \u001b[0mqueries\u001b[0m\u001b[0;34m:\u001b[0m\u001b[0;34m\u001b[0m\u001b[0m\n\u001b[0;32m----> 9\u001b[0;31m     \u001b[0mmasterCursor\u001b[0m\u001b[0;34m.\u001b[0m\u001b[0mexecute\u001b[0m\u001b[0;34m(\u001b[0m\u001b[0mquery\u001b[0m\u001b[0;34m)\u001b[0m\u001b[0;34m\u001b[0m\u001b[0m\n\u001b[0m",
      "\u001b[0;31mProgrammingError\u001b[0m: ('42000', '[42000] [Microsoft][ODBC Driver 13 for SQL Server][SQL Server]Grantor does not have GRANT permission. (4613) (SQLExecDirectW)')"
     ]
    }
   ],
   "source": [
    "#Then, on EACH of the target databases, you need to connect and issue the following: \n",
    "\n",
    "queries =[    \n",
    "    \"CREATE USER \"+jobcredentialuser+\" FROM LOGIN \"+jobcredentialuser,    \n",
    "    \"GRANT CREATE TABLE TO \"+jobcredentialuser+\";\"\n",
    "]\n",
    "\n",
    "for query in queries:\n",
    "    masterCursor.execute(query)"
   ]
  },
  {
   "cell_type": "code",
   "execution_count": 27,
   "metadata": {},
   "outputs": [
    {
     "name": "stdout",
     "output_type": "stream",
     "text": [
      "new master key encryption password:j0bpassw0rd!\n",
      "new job credential name:jobcred\n",
      "new job scoped credential user:jobcred\n",
      "new job scoped credential password:myPassw0rd!\n",
      "new refresh credential name:refreshcred\n",
      "new refresh scoped credential user:refreshcred\n",
      "new refresh scoped credential password:myPassw0rd!\n"
     ]
    }
   ],
   "source": [
    "#Connect to the job database specified when creating the job agent\n",
    "database = 'dbjobaccount'\n",
    "\n",
    "cursor = jobsDbConnection.cursor()\n",
    "\n",
    "master_key_encryption_passwd=input('new master key encryption password:')\n",
    "\n",
    "job_cred_name=input('new job credential name:')\n",
    "job_credential = input('new job scoped credential user:')\n",
    "job_passwd = input('new job scoped credential password:')\n",
    "\n",
    "refresh_cred_name = input('new refresh credential name:')\n",
    "refresh_user = input('new refresh scoped credential user:')\n",
    "refresh_passwd = input('new refresh scoped credential password:')\n",
    "\n",
    "queries =[\n",
    "    \"IF NOT EXISTS (SELECT * FROM sys.symmetric_keys WHERE name LIKE '%DatabaseMasterKey%')\"+\n",
    "    \"BEGIN \"+        \n",
    "        \"CREATE MASTER KEY ENCRYPTION BY PASSWORD = '\"+master_key_encryption_passwd+\"' \"+\n",
    "    \"END\",\n",
    "    # Create a db master key if one does not already exist, using your own password.      \n",
    "    #\"CREATE MASTER KEY ENCRYPTION BY PASSWORD='\"+master_key_encryption_passwd+\"';\",\n",
    "    # Create a database job credential.  \n",
    "    \"CREATE DATABASE SCOPED CREDENTIAL \"+job_cred_name+\" WITH IDENTITY = '\"+job_credential+\"', SECRET = '\"+job_passwd+\"';\",\n",
    "    # Create a database refresh credential for the master database of server1.\n",
    "    \"CREATE DATABASE SCOPED CREDENTIAL \"+refresh_cred_name+\" WITH IDENTITY = '\"+refresh_user+\"',SECRET = '\"+refresh_passwd+\"';\"\n",
    "]\n",
    "\n",
    "for query in queries:\n",
    "    cursor.execute(query)"
   ]
  }
 ],
 "metadata": {
  "kernelspec": {
   "display_name": "Python 3.5",
   "language": "python",
   "name": "python3"
  },
  "language_info": {
   "codemirror_mode": {
    "name": "ipython",
    "version": 3
   },
   "file_extension": ".py",
   "mimetype": "text/x-python",
   "name": "python",
   "nbconvert_exporter": "python",
   "pygments_lexer": "ipython3",
   "version": "3.5.6"
  }
 },
 "nbformat": 4,
 "nbformat_minor": 2
}
