{
 "cells": [
  {
   "cell_type": "code",
   "execution_count": 22,
   "metadata": {},
   "outputs": [],
   "source": [
    "jobExecutionId = \"536BD45F-F435-4115-A9DD-0000C25566BF\""
   ]
  },
  {
   "cell_type": "markdown",
   "metadata": {},
   "source": [
    "## Connect to Job database"
   ]
  },
  {
   "cell_type": "code",
   "execution_count": 20,
   "metadata": {},
   "outputs": [
    {
     "name": "stdout",
     "output_type": "stream",
     "text": [
      "Connected to tcp:sjobaccount1.database.windows.net,1433 successfully\n"
     ]
    }
   ],
   "source": [
    "# Connect to your Job Database\n",
    "# Connect to server\n",
    "import pyodbc \n",
    "import pandas as pd\n",
    "import numpy as np\n",
    "\n",
    "pd.set_option('display.max_colwidth', 1000)\n",
    "server_name = 'tcp:sjobaccount1.database.windows.net,1433'\n",
    "database = 'dbjobaccount'\n",
    "username = 'cloudsa'\n",
    "passwd = 'Yukon900!'\n",
    "\n",
    "jobsDbConnection = pyodbc.connect('Driver={ODBC Driver 13 for SQL Server};'\n",
    "                        'UID='+username+';'\n",
    "                        'PWD='+passwd+';'\n",
    "                      'Server='+server_name+';'\n",
    "                      'Database='+database+';'\n",
    "                      'Encrypt=yes;TrustServerCertificate=no;Connection Timeout=30;'\n",
    "                      )\n",
    "\n",
    "print(\"Connected to \"+server_name+\" successfully\")"
   ]
  },
  {
   "cell_type": "markdown",
   "metadata": {},
   "source": [
    "## View latest job execution info for specific job execution id"
   ]
  },
  {
   "cell_type": "code",
   "execution_count": 24,
   "metadata": {},
   "outputs": [
    {
     "data": {
      "text/html": [
       "<div>\n",
       "<style scoped>\n",
       "    .dataframe tbody tr th:only-of-type {\n",
       "        vertical-align: middle;\n",
       "    }\n",
       "\n",
       "    .dataframe tbody tr th {\n",
       "        vertical-align: top;\n",
       "    }\n",
       "\n",
       "    .dataframe thead th {\n",
       "        text-align: right;\n",
       "    }\n",
       "</style>\n",
       "<table border=\"1\" class=\"dataframe\">\n",
       "  <thead>\n",
       "    <tr style=\"text-align: right;\">\n",
       "      <th></th>\n",
       "      <th>job_execution_id</th>\n",
       "      <th>last_message</th>\n",
       "    </tr>\n",
       "  </thead>\n",
       "  <tbody>\n",
       "    <tr>\n",
       "      <th>0</th>\n",
       "      <td>536BD45F-F435-4115-A9DD-0000C25566BF</td>\n",
       "      <td>Job execution succeeded.</td>\n",
       "    </tr>\n",
       "    <tr>\n",
       "      <th>1</th>\n",
       "      <td>536BD45F-F435-4115-A9DD-0000C25566BF</td>\n",
       "      <td>Step 1 succeeded execution on target (server 'sjobaccount1.database.windows.net', database 'dbjobaccount').</td>\n",
       "    </tr>\n",
       "    <tr>\n",
       "      <th>2</th>\n",
       "      <td>536BD45F-F435-4115-A9DD-0000C25566BF</td>\n",
       "      <td>Step 1 succeeded.</td>\n",
       "    </tr>\n",
       "  </tbody>\n",
       "</table>\n",
       "</div>"
      ],
      "text/plain": [
       "                       job_execution_id  \\\n",
       "0  536BD45F-F435-4115-A9DD-0000C25566BF   \n",
       "1  536BD45F-F435-4115-A9DD-0000C25566BF   \n",
       "2  536BD45F-F435-4115-A9DD-0000C25566BF   \n",
       "\n",
       "                                                                                                  last_message  \n",
       "0                                                                                     Job execution succeeded.  \n",
       "1  Step 1 succeeded execution on target (server 'sjobaccount1.database.windows.net', database 'dbjobaccount').  \n",
       "2                                                                                            Step 1 succeeded.  "
      ]
     },
     "execution_count": 24,
     "metadata": {},
     "output_type": "execute_result"
    }
   ],
   "source": [
    "# View your jobs\n",
    "cursor = jobsDbConnection.cursor()\n",
    "query = \"SELECT job_execution_id, last_message FROM jobs.job_executions WHERE job_execution_id ='\" + jobExecutionId + \"'\"\n",
    "\n",
    "sql_query = pd.read_sql_query(query,jobsDbConnection)\n",
    "table = pd.DataFrame(sql_query)\n",
    "table"
   ]
  }
 ],
 "metadata": {
  "kernelspec": {
   "display_name": "Python 3.5",
   "language": "python",
   "name": "python3"
  },
  "language_info": {
   "codemirror_mode": {
    "name": "ipython",
    "version": 3
   },
   "file_extension": ".py",
   "mimetype": "text/x-python",
   "name": "python",
   "nbconvert_exporter": "python",
   "pygments_lexer": "ipython3",
   "version": "3.5.6"
  }
 },
 "nbformat": 4,
 "nbformat_minor": 2
}
