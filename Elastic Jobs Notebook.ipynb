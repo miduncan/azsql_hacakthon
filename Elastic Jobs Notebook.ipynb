{
 "cells": [
  {
   "cell_type": "code",
   "execution_count": null,
   "metadata": {},
   "outputs": [],
   "source": [
    "jobName = input('job name:')\n",
    "jobDescription = input('job description:')\n",
    "stepName = \"test\"\n",
    "command = \"SELECT 1\"\n",
    "credentialName = \"cloudsa\"\n",
    "targetGroupName = \"self\""
   ]
  },
  {
   "cell_type": "markdown",
   "metadata": {},
   "source": [
    "## Connect to your Job Database"
   ]
  },
  {
   "cell_type": "code",
   "execution_count": 1,
   "metadata": {},
   "outputs": [
    {
     "name": "stdout",
     "output_type": "stream",
     "text": [
      "Connected to tcp:sjobaccount1.database.windows.net,1433 successfully\n"
     ]
    }
   ],
   "source": [
    "# Connect to server\n",
    "import pyodbc \n",
    "import pandas as pd\n",
    "import numpy as np\n",
    "\n",
    "server_name = 'tcp:sjobaccount1.database.windows.net,1433'\n",
    "database = 'dbjobaccount'\n",
    "username = 'cloudsa'\n",
    "passwd = 'Yukon900!'\n",
    "\n",
    "jobsDbConnection = pyodbc.connect('Driver={ODBC Driver 13 for SQL Server};'\n",
    "                        'UID='+username+';'\n",
    "                        'PWD='+passwd+';'\n",
    "                      'Server='+server_name+';'\n",
    "                      'Database='+database+';'\n",
    "                      'Encrypt=yes;TrustServerCertificate=no;Connection Timeout=30;'\n",
    "                      )\n",
    "\n",
    "print(\"Connected to \"+server_name+\" successfully\")"
   ]
  },
  {
   "cell_type": "markdown",
   "metadata": {},
   "source": [
    "## Create a new job"
   ]
  },
  {
   "cell_type": "code",
   "execution_count": 3,
   "metadata": {},
   "outputs": [
    {
     "name": "stdout",
     "output_type": "stream",
     "text": [
      "testJob2123 created successfully\n"
     ]
    }
   ],
   "source": [
    "# Create job\n",
    "cursor = jobsDbConnection.cursor();\n",
    "queries=[\n",
    "    #Add job for create table\n",
    "    \"EXEC jobs.sp_add_job @job_name='\" + jobName + \"', @description='\" + jobName + \"'\"\n",
    "]\n",
    "\n",
    "for query in queries:\n",
    "    cursor.execute(query)\n",
    "\n",
    "print(jobName + \" created successfully\");"
   ]
  },
  {
   "cell_type": "markdown",
   "metadata": {},
   "source": [
    "## View your jobs"
   ]
  },
  {
   "cell_type": "code",
   "execution_count": 40,
   "metadata": {},
   "outputs": [
    {
     "data": {
      "text/html": [
       "<div>\n",
       "<style scoped>\n",
       "    .dataframe tbody tr th:only-of-type {\n",
       "        vertical-align: middle;\n",
       "    }\n",
       "\n",
       "    .dataframe tbody tr th {\n",
       "        vertical-align: top;\n",
       "    }\n",
       "\n",
       "    .dataframe thead th {\n",
       "        text-align: right;\n",
       "    }\n",
       "</style>\n",
       "<table border=\"1\" class=\"dataframe\">\n",
       "  <thead>\n",
       "    <tr style=\"text-align: right;\">\n",
       "      <th></th>\n",
       "      <th>job_name</th>\n",
       "    </tr>\n",
       "  </thead>\n",
       "  <tbody>\n",
       "    <tr>\n",
       "      <th>0</th>\n",
       "      <td>select1-self</td>\n",
       "    </tr>\n",
       "    <tr>\n",
       "      <th>1</th>\n",
       "      <td>test_remote_job</td>\n",
       "    </tr>\n",
       "    <tr>\n",
       "      <th>2</th>\n",
       "      <td>testDividebyZero</td>\n",
       "    </tr>\n",
       "    <tr>\n",
       "      <th>3</th>\n",
       "      <td>testJobNoSteps</td>\n",
       "    </tr>\n",
       "  </tbody>\n",
       "</table>\n",
       "</div>"
      ],
      "text/plain": [
       "           job_name\n",
       "0      select1-self\n",
       "1   test_remote_job\n",
       "2  testDividebyZero\n",
       "3    testJobNoSteps"
      ]
     },
     "execution_count": 40,
     "metadata": {},
     "output_type": "execute_result"
    }
   ],
   "source": [
    "cursor = jobsDbConnection.cursor()\n",
    "query= \"SELECT top 100 job_name FROM jobs.jobs\"\n",
    "sql_query = pd.read_sql_query(query,jobsDbConnection)\n",
    "table = pd.DataFrame(sql_query)\n",
    "table"
   ]
  },
  {
   "cell_type": "markdown",
   "metadata": {},
   "source": [
    "## Delete a job"
   ]
  },
  {
   "cell_type": "code",
   "execution_count": 31,
   "metadata": {},
   "outputs": [
    {
     "name": "stdout",
     "output_type": "stream",
     "text": [
      "testJobNoSteps job deleted successfully\n"
     ]
    }
   ],
   "source": [
    "# Create job\n",
    "cursor = jobsDbConnection.cursor();\n",
    "queries=[\n",
    "    #Add job for create table\n",
    "    \"EXEC jobs.sp_delete_job @job_name='\" + jobName + \"'\"\n",
    "]\n",
    "\n",
    "for query in queries:\n",
    "    cursor.execute(query)\n",
    "\n",
    "print(jobName +\" job deleted successfully\");"
   ]
  },
  {
   "cell_type": "markdown",
   "metadata": {},
   "source": [
    "## Add a job step"
   ]
  },
  {
   "cell_type": "code",
   "execution_count": null,
   "metadata": {},
   "outputs": [],
   "source": [
    "## Add a job step to job\n",
    "\n",
    "cursor = jobsDbConnection.cursor();\n",
    "queries=[\n",
    "    #Add job for create table\n",
    "    \"exec jobs.sp_add_jobstep @job_name='\" + jobName + \"', @step_name='\" + stepName + \"', @command='\" + command + \"', @credential_name='\" + credentialName +\"', @target_group_name='\" + targetGroupName +\"'\"\n",
    "]\n",
    "\n",
    "for query in queries:\n",
    "    cursor.execute(query)\n",
    "\n",
    "print(\"Added job step \" + stepName + \"to job successfully\");\n",
    "                  \n",
    "                   "
   ]
  }
 ],
 "metadata": {
  "kernelspec": {
   "display_name": "Python 3.5",
   "language": "python",
   "name": "python3"
  },
  "language_info": {
   "codemirror_mode": {
    "name": "ipython",
    "version": 3
   },
   "file_extension": ".py",
   "mimetype": "text/x-python",
   "name": "python",
   "nbconvert_exporter": "python",
   "pygments_lexer": "ipython3",
   "version": "3.5.6"
  }
 },
 "nbformat": 4,
 "nbformat_minor": 2
}
