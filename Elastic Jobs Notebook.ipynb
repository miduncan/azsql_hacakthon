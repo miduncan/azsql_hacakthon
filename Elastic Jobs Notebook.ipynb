{
 "cells": [
  {
   "cell_type": "markdown",
   "metadata": {},
   "source": [
    "## Connect to your Job Database"
   ]
  },
  {
   "cell_type": "code",
   "execution_count": 17,
   "metadata": {},
   "outputs": [
    {
     "name": "stdout",
     "output_type": "stream",
     "text": [
      "Connected to tcp:sjobaccount1.database.windows.net,1433 successfully\n"
     ]
    }
   ],
   "source": [
    "# Connect to server\n",
    "import pyodbc \n",
    "import pandas as pd\n",
    "import numpy as np\n",
    "\n",
    "server_name = 'tcp:sjobaccount1.database.windows.net,1433'\n",
    "database = 'dbjobaccount'\n",
    "username = 'cloudsa'\n",
    "passwd = 'Yukon900!'\n",
    "\n",
    "jobsDbConnection = pyodbc.connect('Driver={ODBC Driver 13 for SQL Server};'\n",
    "                        'UID='+username+';'\n",
    "                        'PWD='+passwd+';'\n",
    "                      'Server='+server_name+';'\n",
    "                      'Database='+database+';'\n",
    "                      'Encrypt=yes;TrustServerCertificate=no;Connection Timeout=30;'\n",
    "                      )\n",
    "\n",
    "print(\"Connected to \"+server_name+\" successfully\")"
   ]
  },
  {
   "cell_type": "markdown",
   "metadata": {},
   "source": [
    "## Create a new job"
   ]
  },
  {
   "cell_type": "code",
   "execution_count": 5,
   "metadata": {},
   "outputs": [
    {
     "name": "stdout",
     "output_type": "stream",
     "text": [
      "job name:asdfasdf\n",
      "job description:asdfasdfasdfasdfasdf\n",
      "asdfasdf\t created successfully\n"
     ]
    }
   ],
   "source": [
    "# Create job\n",
    "cursor = jobsDbConnection.cursor();\n",
    "jobName = input('job name:')\n",
    "jobDescription = input('job description:')\n",
    "queries=[\n",
    "    #Add job for create table\n",
    "    \"EXEC jobs.sp_add_job @job_name='\"+jobName+\"', @description='\"+jobName+\"'\"\n",
    "]\n",
    "\n",
    "for query in queries:\n",
    "    cursor.execute(query)\n",
    "\n",
    "print(jobName+\"\\t created successfully\");"
   ]
  },
  {
   "cell_type": "markdown",
   "metadata": {},
   "source": [
    "## View your jobs"
   ]
  },
  {
   "cell_type": "code",
   "execution_count": 7,
   "metadata": {},
   "outputs": [
    {
     "data": {
      "text/html": [
       "<div>\n",
       "<style scoped>\n",
       "    .dataframe tbody tr th:only-of-type {\n",
       "        vertical-align: middle;\n",
       "    }\n",
       "\n",
       "    .dataframe tbody tr th {\n",
       "        vertical-align: top;\n",
       "    }\n",
       "\n",
       "    .dataframe thead th {\n",
       "        text-align: right;\n",
       "    }\n",
       "</style>\n",
       "<table border=\"1\" class=\"dataframe\">\n",
       "  <thead>\n",
       "    <tr style=\"text-align: right;\">\n",
       "      <th></th>\n",
       "      <th>job_name</th>\n",
       "    </tr>\n",
       "  </thead>\n",
       "  <tbody>\n",
       "    <tr>\n",
       "      <th>0</th>\n",
       "      <td>asdfasdf</td>\n",
       "    </tr>\n",
       "    <tr>\n",
       "      <th>1</th>\n",
       "      <td>select1-self</td>\n",
       "    </tr>\n",
       "    <tr>\n",
       "      <th>2</th>\n",
       "      <td>test_remote_job</td>\n",
       "    </tr>\n",
       "    <tr>\n",
       "      <th>3</th>\n",
       "      <td>testDividebyZero</td>\n",
       "    </tr>\n",
       "    <tr>\n",
       "      <th>4</th>\n",
       "      <td>testJobNoSteps</td>\n",
       "    </tr>\n",
       "  </tbody>\n",
       "</table>\n",
       "</div>"
      ],
      "text/plain": [
       "           job_name\n",
       "0          asdfasdf\n",
       "1      select1-self\n",
       "2   test_remote_job\n",
       "3  testDividebyZero\n",
       "4    testJobNoSteps"
      ]
     },
     "execution_count": 7,
     "metadata": {},
     "output_type": "execute_result"
    }
   ],
   "source": [
    "cursor = jobsDbConnection.cursor()\n",
    "query= \"SELECT top 100 job_name FROM jobs.jobs\"\n",
    "sql_query = pd.read_sql_query(query,jobsDbConnection)\n",
    "table = pd.DataFrame(sql_query)\n",
    "table"
   ]
  },
  {
   "cell_type": "markdown",
   "metadata": {},
   "source": [
    "## Add a job step to your job"
   ]
  },
  {
   "cell_type": "code",
   "execution_count": 16,
   "metadata": {},
   "outputs": [
    {
     "name": "stdout",
     "output_type": "stream",
     "text": [
      "job name:asdfasdf\n",
      "credentials name:cloudsa\n",
      "target group name:self\n",
      "step name:step1self\n",
      "command to be added:SELECT 1\n",
      "step1self\t created successfully\n"
     ]
    }
   ],
   "source": [
    "#Create job step for create table\n",
    "cursor = jobsDbConnection.cursor();\n",
    "\n",
    "jobName= input('job name:')\n",
    "credential_name = input('credentials name:')\n",
    "target_group_name = input('target group name:')\n",
    "step_name = input('step name:')\n",
    "step_command = input('command to be added:')\n",
    "\n",
    "queries=[\n",
    "\"EXEC jobs.sp_add_jobstep @job_name='\"+jobName+\"',\"+\n",
    "\"@command=N'\"+step_command+\"',\"+\n",
    "\"@credential_name='\"+credential_name+\"',\"+\n",
    "\"@target_group_name='\"+target_group_name+\"',\"+\n",
    "\"@step_name='\"+step_name+\"';\"\n",
    "]\n",
    "\n",
    "for query in queries:\n",
    "    cursor.execute(query)\n",
    "\n",
    "print(step_name+\"\\t created successfully\");"
   ]
  }
 ],
 "metadata": {
  "kernelspec": {
   "display_name": "Python 3.5",
   "language": "python",
   "name": "python3"
  },
  "language_info": {
   "codemirror_mode": {
    "name": "ipython",
    "version": 3
   },
   "file_extension": ".py",
   "mimetype": "text/x-python",
   "name": "python",
   "nbconvert_exporter": "python",
   "pygments_lexer": "ipython3",
   "version": "3.5.6"
  }
 },
 "nbformat": 4,
 "nbformat_minor": 2
}
